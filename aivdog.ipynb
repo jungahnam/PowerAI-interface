{
 "cells": [
  {
   "cell_type": "markdown",
   "metadata": {},
   "source": [
    "# Check Training Status\n",
    "\n",
    "### Setup"
   ]
  },
  {
   "cell_type": "code",
   "execution_count": 1,
   "metadata": {},
   "outputs": [],
   "source": [
    "import requests\n",
    "import json\n",
    "import sys\n",
    "\n",
    "\n",
    "# To ease STDERR print\n",
    "def eprint(*args, **kwargs):\n",
    "    print(*args, file=sys.stderr, **kwargs)\n",
    "    \n",
    "    \n",
    "# To ease checking api results since many return success HTTP code (200)\n",
    "# but report true success/failure in a json object\n",
    "def rspOk(rsp):\n",
    "           \n",
    "    if (rsp.ok):\n",
    "        try:\n",
    "            jsonBody = rsp.json()\n",
    "            if (\"result\" in jsonBody) and ( jsonBody[\"result\"] == \"fail\"):\n",
    "                result = False\n",
    "            else:\n",
    "                result = True\n",
    "        except ValueError:\n",
    "            result = True\n",
    "            eprint(\"WARN: good status_code, but no data\")\n",
    "    else:\n",
    "        result = False\n",
    "        \n",
    "    return result\n",
    "\n",
    "    \n",
    "base_url = \"http://9.5.95.52:9080/powerai-vision/api\"\n"
   ]
  },
  {
   "cell_type": "markdown",
   "metadata": {},
   "source": [
    "### Get list of tasks and show summary"
   ]
  },
  {
   "cell_type": "code",
   "execution_count": 2,
   "metadata": {},
   "outputs": [
    {
     "data": {
      "text/html": [
       "<table>\n",
       "<thead>\n",
       "<tr><th style=\"text-align: right;\">  Index</th><th>Name                      </th><th>Status  </th><th>_id                                 </th><th>dataset_id                          </th></tr>\n",
       "</thead>\n",
       "<tbody>\n",
       "<tr><td style=\"text-align: right;\">      0</td><td>Dogs                      </td><td>deployed</td><td>6431e8c1-efe7-49a2-a2b8-a340c8aa7b75</td><td>04453c8d-a271-4ccd-aebf-7493417eca18</td></tr>\n",
       "<tr><td style=\"text-align: right;\">      1</td><td>Car-Pedestrain-AutoLabeled</td><td>deployed</td><td>ee27eed0-9893-43c4-8f0e-f715a5f41ab0</td><td>06158d40-db07-4626-b833-419f96f27d76</td></tr>\n",
       "<tr><td style=\"text-align: right;\">      2</td><td>Pedestrain-Car-Initial    </td><td>deployed</td><td>e2d72c14-81ed-43b5-a332-efa656d62cbf</td><td>0f845ca5-c9f0-4a71-a04d-3c4cd62ecb45</td></tr>\n",
       "<tr><td style=\"text-align: right;\">      3</td><td>Softdrinks                </td><td>deployed</td><td>0403590e-f395-441c-9b69-b61bf6c6253c</td><td>80b1ba18-5b30-490a-b1b2-0a76f84de76b</td></tr>\n",
       "<tr><td style=\"text-align: right;\">      4</td><td>Birds                     </td><td>deployed</td><td>c076da3f-a1f4-4686-8762-4d6896f25002</td><td>d2d95069-cbbb-4fbc-94ed-54d7e4b9dbab</td></tr>\n",
       "<tr><td style=\"text-align: right;\">      5</td><td>Construction              </td><td>deployed</td><td>6bfca0f8-aad6-4edd-8eb3-f28bf1a99a3c</td><td>666fee70-cd2f-47cc-a4ee-4c58a099170e</td></tr>\n",
       "</tbody>\n",
       "</table>"
      ],
      "text/plain": [
       "<IPython.core.display.HTML object>"
      ]
     },
     "metadata": {},
     "output_type": "display_data"
    }
   ],
   "source": [
    "from IPython.display import HTML, display, Image\n",
    "import tabulate\n",
    "\n",
    "url = base_url + \"/dltasks/\"\n",
    "rsp = requests.get(url)\n",
    "if (rspOk(rsp)):\n",
    "    tasks = rsp.json()\n",
    "\n",
    "# Adjust task list into summary table format\n",
    "task_table = []\n",
    "for i, task in enumerate(tasks):\n",
    "    task_table.append((i, task[\"name\"], task[\"status\"], task[\"_id\"], task[\"dataset_id\"]))\n",
    "\n",
    "display(HTML(tabulate.tabulate(task_table, headers=[\"Index\", \"Name\", \"Status\", \"_id\", \"dataset_id\"], tablefmt='html')))"
   ]
  },
  {
   "cell_type": "markdown",
   "metadata": {},
   "source": [
    "### Monitor status on specific training task\n",
    "rerun cell to refresh status info"
   ]
  },
  {
   "cell_type": "code",
   "execution_count": 3,
   "metadata": {},
   "outputs": [
    {
     "name": "stdout",
     "output_type": "stream",
     "text": [
      "http://9.5.95.52:9080/powerai-vision/api/dltasks/6431e8c1-efe7-49a2-a2b8-a340c8aa7b75/status\n"
     ]
    },
    {
     "name": "stderr",
     "output_type": "stream",
     "text": [
      "<Response [200]> {\"result\":\"fail\"}\n"
     ]
    }
   ],
   "source": [
    "import time\n",
    "\n",
    "monitor_index = 0\n",
    "taskid_index = 3\n",
    "\n",
    "url = base_url + \"/dltasks/\" + task_table[monitor_index][taskid_index] + \"/status\"\n",
    "print(url)\n",
    "rsp = requests.get(url)\n",
    "\n",
    "if rspOk(rsp):\n",
    "    status_list = rsp.json()\n",
    "    print(json.dumps(status_list[\"data\"][-1], indent=2))\n",
    "else:\n",
    "    eprint(rsp, rsp.text)"
   ]
  },
  {
   "cell_type": "markdown",
   "metadata": {},
   "source": [
    "### show final task summary info"
   ]
  },
  {
   "cell_type": "code",
   "execution_count": 4,
   "metadata": {},
   "outputs": [
    {
     "data": {
      "text/html": [
       "<table>\n",
       "<thead>\n",
       "<tr><th style=\"text-align: right;\">  Index</th><th>Name  </th><th>Status  </th><th>_id                                 </th><th>dataset_id                          </th></tr>\n",
       "</thead>\n",
       "<tbody>\n",
       "<tr><td style=\"text-align: right;\">      5</td><td>Dogs  </td><td>deployed</td><td>6431e8c1-efe7-49a2-a2b8-a340c8aa7b75</td><td>04453c8d-a271-4ccd-aebf-7493417eca18</td></tr>\n",
       "</tbody>\n",
       "</table>"
      ],
      "text/plain": [
       "<IPython.core.display.HTML object>"
      ]
     },
     "metadata": {},
     "output_type": "display_data"
    }
   ],
   "source": [
    "url = base_url + \"/dltasks/\" + task_table[monitor_index][taskid_index]\n",
    "rsp = requests.get(url)\n",
    "if (rspOk(rsp)):\n",
    "    task = rsp.json()\n",
    "\n",
    "# Adjust task list into summary table format\n",
    "task_table = []\n",
    "task_table.append((i, task[\"name\"], task[\"status\"], task[\"_id\"], task[\"dataset_id\"]))\n",
    "\n",
    "display(HTML(tabulate.tabulate(task_table, headers=[\"Index\", \"Name\", \"Status\", \"_id\", \"dataset_id\"], tablefmt='html')))"
   ]
  },
  {
   "cell_type": "markdown",
   "metadata": {},
   "source": [
    "### Deploy model"
   ]
  },
  {
   "cell_type": "code",
   "execution_count": 5,
   "metadata": {},
   "outputs": [],
   "source": [
    "url = base_url + \"/webapis\"\n",
    "deploy_request = {\"trained_model_id\": task_table[monitor_index][taskid_index]}\n",
    "rsp = requests.post(url, data=json.dumps(deploy_request))\n",
    "if not rspOk(rsp):\n",
    "    eprint(\"Request Failed\")\n",
    "    eprint(rsp)"
   ]
  },
  {
   "cell_type": "markdown",
   "metadata": {},
   "source": [
    "### Test an Image"
   ]
  },
  {
   "cell_type": "code",
   "execution_count": 8,
   "metadata": {},
   "outputs": [
    {
     "name": "stdout",
     "output_type": "stream",
     "text": [
      ".:\r\n",
      "aivinference.ipynb  aiv.ipynb  aivsri.ipynb  \u001b[0m\u001b[01;35mdog1.jpg\u001b[0m  \u001b[01;35mdog2.jpg\u001b[0m  \u001b[01;35mdog3.jpg\u001b[0m\r\n"
     ]
    }
   ],
   "source": [
    "%ls -R "
   ]
  },
  {
   "cell_type": "code",
   "execution_count": 10,
   "metadata": {},
   "outputs": [
    {
     "name": "stdout",
     "output_type": "stream",
     "text": [
      "{\"Weimaraner\": \"0.99752\"}\n"
     ]
    },
    {
     "data": {
      "text/html": [
       "<img src=\"http://9.5.95.52:9080/powerai-vision/uploads/temp/6431e8c1-efe7-49a2-a2b8-a340c8aa7b75/59ba0e8d-6aa6-4f14-b566-24f4f0b7a85d.jpg\" width=\"150\" height=\"150\"/>"
      ],
      "text/plain": [
       "<IPython.core.display.Image object>"
      ]
     },
     "metadata": {},
     "output_type": "display_data"
    },
    {
     "name": "stdout",
     "output_type": "stream",
     "text": [
      "http://9.5.95.52:9080/powerai-vision/uploads/temp/6431e8c1-efe7-49a2-a2b8-a340c8aa7b75/59ba0e8d-6aa6-4f14-b566-24f4f0b7a85d.jpg\n",
      "{\n",
      "  \"imageUrl\": \"http://9.5.95.52:9080/powerai-vision/uploads/temp/6431e8c1-efe7-49a2-a2b8-a340c8aa7b75/59ba0e8d-6aa6-4f14-b566-24f4f0b7a85d.jpg\",\n",
      "  \"imageMd5\": \"ca7e448df4e5de07627ad80734d7034d\",\n",
      "  \"classified\": {\n",
      "    \"Weimaraner\": \"0.99752\"\n",
      "  },\n",
      "  \"result\": \"success\"\n",
      "}\n"
     ]
    }
   ],
   "source": [
    "filepath=\"dog3.jpg\"\n",
    "url = base_url + \"/dlapis/\" + task_table[monitor_index][taskid_index]\n",
    "files = {'files': open(filepath, 'rb') }\n",
    "\n",
    "rsp = requests.post(url, files=files)\n",
    "if rspOk(rsp):\n",
    "    result=rsp.json()\n",
    "    print(json.dumps(result[\"classified\"]))\n",
    "    display(Image(url=result[\"imageUrl\"], width=150, height=150))\n",
    "    print(result[\"imageUrl\"])\n",
    "    print(json.dumps(result, indent=2))\n",
    "else:\n",
    "    eprint(rsp, rsp.text)"
   ]
  }
 ],
 "metadata": {
  "kernelspec": {
   "display_name": "Python 3",
   "language": "python",
   "name": "python3"
  },
  "language_info": {
   "codemirror_mode": {
    "name": "ipython",
    "version": 3
   },
   "file_extension": ".py",
   "mimetype": "text/x-python",
   "name": "python",
   "nbconvert_exporter": "python",
   "pygments_lexer": "ipython3",
   "version": "3.6.5"
  }
 },
 "nbformat": 4,
 "nbformat_minor": 2
}
